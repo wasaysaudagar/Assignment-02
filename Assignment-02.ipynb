{
 "cells": [
  {
   "cell_type": "code",
   "execution_count": 42,
   "id": "ff9291a3",
   "metadata": {},
   "outputs": [],
   "source": [
    "import requests\n",
    "from bs4 import BeautifulSoup\n",
    "import pandas as pd"
   ]
  },
  {
   "cell_type": "code",
   "execution_count": 43,
   "id": "9f7f1856",
   "metadata": {},
   "outputs": [],
   "source": [
    "url = \"http://quotes.toscrape.com/page/1/\""
   ]
  },
  {
   "cell_type": "code",
   "execution_count": 44,
   "id": "aef61102",
   "metadata": {},
   "outputs": [],
   "source": [
    "response = requests.get(url)"
   ]
  },
  {
   "cell_type": "code",
   "execution_count": 45,
   "id": "4790f6e8",
   "metadata": {},
   "outputs": [],
   "source": [
    "response = response.content"
   ]
  },
  {
   "cell_type": "code",
   "execution_count": 46,
   "id": "881d54d2",
   "metadata": {},
   "outputs": [],
   "source": [
    "soup = BeautifulSoup(response,'html.parser')"
   ]
  },
  {
   "cell_type": "code",
   "execution_count": 47,
   "id": "6fc38c03",
   "metadata": {},
   "outputs": [],
   "source": [
    "div = soup.find('div')"
   ]
  },
  {
   "cell_type": "code",
   "execution_count": 48,
   "id": "5316546e",
   "metadata": {},
   "outputs": [],
   "source": [
    "quotes = soup.find_all('div',class_ = 'quote')"
   ]
  },
  {
   "cell_type": "code",
   "execution_count": 49,
   "id": "c4c12be8",
   "metadata": {},
   "outputs": [],
   "source": [
    "for sp in soup.find_all('div',class_ = 'quote'):\n",
    "    \n",
    "    quote = sp.find('span',class_ = 'text')\n",
    "    author = sp.find('small').text\n",
    "    \n",
    "  "
   ]
  },
  {
   "cell_type": "code",
   "execution_count": null,
   "id": "dc1953c3",
   "metadata": {},
   "outputs": [],
   "source": []
  },
  {
   "cell_type": "code",
   "execution_count": 50,
   "id": "58bd86c1",
   "metadata": {},
   "outputs": [],
   "source": [
    "for tags in soup.find_all('a', class_ = 'tag'):\n",
    "        tag.append(tags.text)"
   ]
  },
  {
   "cell_type": "code",
   "execution_count": 51,
   "id": "8314ac46",
   "metadata": {},
   "outputs": [],
   "source": [
    "words = []\n",
    "\n",
    "for pages in range(1,11):\n",
    "    url = \"http://quotes.toscrape.com/page/1/\"\n",
    "    response = requests.get(url)\n",
    "    response = response.content\n",
    "    soup = BeautifulSoup(response,'html.parser')\n",
    "    div = soup.find('ol')\n",
    "    quotes = soup.find_all('div',class_ = 'quote')\n",
    "    \n",
    "    \n",
    "    for sp in soup.find_all('div',class_ = 'quote'):\n",
    "        quote = sp.find('span',class_ = 'text')\n",
    "        author = sp.find('small').text\n",
    "        words.append([quote, author, ','.join(tags)])\n",
    "    \n",
    "    \n",
    "    \n",
    "    \n",
    "    \n",
    "    "
   ]
  },
  {
   "cell_type": "code",
   "execution_count": 52,
   "id": "2155128f",
   "metadata": {},
   "outputs": [],
   "source": [
    "df = pd.DataFrame(words,columns = ['Quote','Author','Tags'])"
   ]
  },
  {
   "cell_type": "code",
   "execution_count": 53,
   "id": "3d6d193a",
   "metadata": {},
   "outputs": [
    {
     "data": {
      "text/html": [
       "<div>\n",
       "<style scoped>\n",
       "    .dataframe tbody tr th:only-of-type {\n",
       "        vertical-align: middle;\n",
       "    }\n",
       "\n",
       "    .dataframe tbody tr th {\n",
       "        vertical-align: top;\n",
       "    }\n",
       "\n",
       "    .dataframe thead th {\n",
       "        text-align: right;\n",
       "    }\n",
       "</style>\n",
       "<table border=\"1\" class=\"dataframe\">\n",
       "  <thead>\n",
       "    <tr style=\"text-align: right;\">\n",
       "      <th></th>\n",
       "      <th>Quote</th>\n",
       "      <th>Author</th>\n",
       "      <th>Tags</th>\n",
       "    </tr>\n",
       "  </thead>\n",
       "  <tbody>\n",
       "    <tr>\n",
       "      <th>0</th>\n",
       "      <td>[“The world as we have created it is a process...</td>\n",
       "      <td>Albert Einstein</td>\n",
       "      <td>simile</td>\n",
       "    </tr>\n",
       "    <tr>\n",
       "      <th>1</th>\n",
       "      <td>[“It is our choices, Harry, that show what we ...</td>\n",
       "      <td>J.K. Rowling</td>\n",
       "      <td>simile</td>\n",
       "    </tr>\n",
       "    <tr>\n",
       "      <th>2</th>\n",
       "      <td>[“There are only two ways to live your life. O...</td>\n",
       "      <td>Albert Einstein</td>\n",
       "      <td>simile</td>\n",
       "    </tr>\n",
       "    <tr>\n",
       "      <th>3</th>\n",
       "      <td>[“The person, be it gentleman or lady, who has...</td>\n",
       "      <td>Jane Austen</td>\n",
       "      <td>simile</td>\n",
       "    </tr>\n",
       "    <tr>\n",
       "      <th>4</th>\n",
       "      <td>[“Imperfection is beauty, madness is genius an...</td>\n",
       "      <td>Marilyn Monroe</td>\n",
       "      <td>simile</td>\n",
       "    </tr>\n",
       "    <tr>\n",
       "      <th>...</th>\n",
       "      <td>...</td>\n",
       "      <td>...</td>\n",
       "      <td>...</td>\n",
       "    </tr>\n",
       "    <tr>\n",
       "      <th>95</th>\n",
       "      <td>[“Try not to become a man of success. Rather b...</td>\n",
       "      <td>Albert Einstein</td>\n",
       "      <td>simile</td>\n",
       "    </tr>\n",
       "    <tr>\n",
       "      <th>96</th>\n",
       "      <td>[“It is better to be hated for what you are th...</td>\n",
       "      <td>André Gide</td>\n",
       "      <td>simile</td>\n",
       "    </tr>\n",
       "    <tr>\n",
       "      <th>97</th>\n",
       "      <td>[“I have not failed. I've just found 10,000 wa...</td>\n",
       "      <td>Thomas A. Edison</td>\n",
       "      <td>simile</td>\n",
       "    </tr>\n",
       "    <tr>\n",
       "      <th>98</th>\n",
       "      <td>[“A woman is like a tea bag; you never know ho...</td>\n",
       "      <td>Eleanor Roosevelt</td>\n",
       "      <td>simile</td>\n",
       "    </tr>\n",
       "    <tr>\n",
       "      <th>99</th>\n",
       "      <td>[“A day without sunshine is like, you know, ni...</td>\n",
       "      <td>Steve Martin</td>\n",
       "      <td>simile</td>\n",
       "    </tr>\n",
       "  </tbody>\n",
       "</table>\n",
       "<p>100 rows × 3 columns</p>\n",
       "</div>"
      ],
      "text/plain": [
       "                                                Quote             Author  \\\n",
       "0   [“The world as we have created it is a process...    Albert Einstein   \n",
       "1   [“It is our choices, Harry, that show what we ...       J.K. Rowling   \n",
       "2   [“There are only two ways to live your life. O...    Albert Einstein   \n",
       "3   [“The person, be it gentleman or lady, who has...        Jane Austen   \n",
       "4   [“Imperfection is beauty, madness is genius an...     Marilyn Monroe   \n",
       "..                                                ...                ...   \n",
       "95  [“Try not to become a man of success. Rather b...    Albert Einstein   \n",
       "96  [“It is better to be hated for what you are th...         André Gide   \n",
       "97  [“I have not failed. I've just found 10,000 wa...   Thomas A. Edison   \n",
       "98  [“A woman is like a tea bag; you never know ho...  Eleanor Roosevelt   \n",
       "99  [“A day without sunshine is like, you know, ni...       Steve Martin   \n",
       "\n",
       "      Tags  \n",
       "0   simile  \n",
       "1   simile  \n",
       "2   simile  \n",
       "3   simile  \n",
       "4   simile  \n",
       "..     ...  \n",
       "95  simile  \n",
       "96  simile  \n",
       "97  simile  \n",
       "98  simile  \n",
       "99  simile  \n",
       "\n",
       "[100 rows x 3 columns]"
      ]
     },
     "execution_count": 53,
     "metadata": {},
     "output_type": "execute_result"
    }
   ],
   "source": [
    "df"
   ]
  },
  {
   "cell_type": "code",
   "execution_count": 54,
   "id": "d6e452f1",
   "metadata": {},
   "outputs": [],
   "source": [
    "df.to_csv('Assignment2.csv', index = False)"
   ]
  },
  {
   "cell_type": "code",
   "execution_count": null,
   "id": "7e33b047",
   "metadata": {},
   "outputs": [],
   "source": []
  }
 ],
 "metadata": {
  "kernelspec": {
   "display_name": "Python 3 (ipykernel)",
   "language": "python",
   "name": "python3"
  },
  "language_info": {
   "codemirror_mode": {
    "name": "ipython",
    "version": 3
   },
   "file_extension": ".py",
   "mimetype": "text/x-python",
   "name": "python",
   "nbconvert_exporter": "python",
   "pygments_lexer": "ipython3",
   "version": "3.9.12"
  }
 },
 "nbformat": 4,
 "nbformat_minor": 5
}
